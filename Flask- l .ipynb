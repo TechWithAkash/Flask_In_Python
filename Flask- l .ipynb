{
 "cells": [
  {
   "cell_type": "markdown",
   "id": "48c40ede",
   "metadata": {},
   "source": [
    "Q1. What is Flask Framework? What are the advantages of Flask Framework?"
   ]
  },
  {
   "cell_type": "markdown",
   "id": "ddeca8b8",
   "metadata": {},
   "source": [
    "==>Flask is a web framework that allows developers to build lightweight web applications quickly and easily with Flask Libraries. It was developed by Armin Ronacher, leader of the International Group of Python Enthusiasts(POCCO). It is basically based on the WSGI toolkit and Jinja2 templating engine."
   ]
  },
  {
   "cell_type": "markdown",
   "id": "4e02da9f",
   "metadata": {},
   "source": [
    "Advantages of Flask\n",
    "Scalable\n",
    "Size is everything, and Flask’s status as a microframework means that you can use it to grow a tech project such as a web app incredibly quickly.\n",
    "\n",
    "Flexible\n",
    "This is the core feature of Flask, and one of its biggest advantages.\n",
    "\n",
    "Easy to negotiate\n",
    "Like Django, being able to find your way around easily is key for allowing web developers to concentrate on just coding quickly, without getting bogged down.\n",
    "\n",
    "Lightweight\n",
    "When we use this term in relation to a tool or framework, we’re talking about the design of it—there are few constituent parts that need to be assembled and reassembled, and it doesn’t rely on a large number of extensions to function. This design gives web developers a certain level of control.\n",
    "\n",
    "Documentation\n",
    "Following the creator’s own theory that “nice documentation design makes you actually write documentation,” Flask users will find a healthy number of examples and tips arranged in a structured manner. "
   ]
  },
  {
   "cell_type": "code",
   "execution_count": null,
   "id": "a965d420",
   "metadata": {},
   "outputs": [],
   "source": []
  },
  {
   "cell_type": "markdown",
   "id": "9b4faa53",
   "metadata": {},
   "source": [
    "Q2. Create a simple Flask application to display ‘Hello World!!’. Attach the screenshot of the output in\n",
    "Jupyter Notebook."
   ]
  },
  {
   "cell_type": "code",
   "execution_count": 5,
   "id": "be3bc9ca",
   "metadata": {},
   "outputs": [
    {
     "data": {
      "text/html": [
       "<img src=\"hello1.png\" width=\"500\" height=\"500\"/>"
      ],
      "text/plain": [
       "<IPython.core.display.Image object>"
      ]
     },
     "execution_count": 5,
     "metadata": {},
     "output_type": "execute_result"
    }
   ],
   "source": [
    "#output:\n",
    "from IPython.display import Image\n",
    "  \n",
    "# get the image\n",
    "Image(url=\"hello1.png\", width=500, height=00)\n"
   ]
  },
  {
   "cell_type": "code",
   "execution_count": null,
   "id": "28e3390b",
   "metadata": {},
   "outputs": [],
   "source": []
  },
  {
   "cell_type": "markdown",
   "id": "4ee17e8f",
   "metadata": {},
   "source": [
    "Q3. What is App routing in Flask? Why do we use app routes?"
   ]
  },
  {
   "cell_type": "markdown",
   "id": "4198d7e3",
   "metadata": {},
   "source": [
    "==>App routing is the technique used to map the specific URL with the associated function intended to perform some task. The Latest Web frameworks use the routing technique to help users remember application URLs. List the different methods to bind the URLs to their associated functions."
   ]
  },
  {
   "cell_type": "code",
   "execution_count": null,
   "id": "7b9165c8",
   "metadata": {},
   "outputs": [],
   "source": []
  },
  {
   "cell_type": "markdown",
   "id": "a2601a4e",
   "metadata": {},
   "source": [
    "Q4. Create a “/welcome” route to display the welcome message “Welcome to ABC Corporation” and a “/”\n",
    "route to show the following details:\n",
    "Company Name: ABC Corporation\n",
    "Location: India\n",
    "Contact Detail: 999-999-9999"
   ]
  },
  {
   "cell_type": "code",
   "execution_count": null,
   "id": "10229d62",
   "metadata": {},
   "outputs": [],
   "source": [
    "# *********************FLASK CODE******************\n",
    "from flask import Flask,render_template , request,jsonify\n",
    "\n",
    "app = Flask(__name__) \n",
    "\n",
    "@app.route('/welcome', methods=['GET', 'POST']) \n",
    "def home_page():\n",
    "    return '<h1 align =\"center\">Welcome to ABC Corporation</h1>'\n",
    "\n",
    "\n",
    "\n",
    "if  __name__ == '__main__':\n",
    "    app.run(host=\"0.0.0.0\")"
   ]
  },
  {
   "cell_type": "markdown",
   "id": "cb341d13",
   "metadata": {},
   "source": [
    "Output:"
   ]
  },
  {
   "cell_type": "code",
   "execution_count": 13,
   "id": "7e2afa6f",
   "metadata": {},
   "outputs": [
    {
     "data": {
      "text/html": [
       "<img src=\"welcome.png\" width=\"500\" height=\"500\"/>"
      ],
      "text/plain": [
       "<IPython.core.display.Image object>"
      ]
     },
     "execution_count": 13,
     "metadata": {},
     "output_type": "execute_result"
    }
   ],
   "source": [
    "# note : The following code is to insert an image of output of above code.\n",
    "from IPython.display import Image\n",
    "Image (url=\"welcome.png\", height=500, width =500)"
   ]
  },
  {
   "cell_type": "code",
   "execution_count": null,
   "id": "7c68e4a9",
   "metadata": {},
   "outputs": [],
   "source": [
    "********Flask code to display company details************\n",
    "from flask import Flask,render_template , request,jsonify\n",
    "\n",
    "app = Flask(__name__) \n",
    "\n",
    "@app.route('/', methods=['GET', 'POST']) \n",
    "def home_page():\n",
    "    return '<h1 align = \"left\">Company Name: ABC Corporation<br>Location: India <br>Contact Details : 999-999-9999</h1>'\n",
    "\n",
    "if  __name__ == '__main__':\n",
    "    app.run(host=\"0.0.0.0\")"
   ]
  },
  {
   "cell_type": "markdown",
   "id": "b39f5a3b",
   "metadata": {},
   "source": [
    "Output:\n",
    "    "
   ]
  },
  {
   "cell_type": "code",
   "execution_count": 2,
   "id": "7ab6afbe",
   "metadata": {},
   "outputs": [
    {
     "data": {
      "text/html": [
       "<img src=\"company.png\" width=\"500\" height=\"500\"/>"
      ],
      "text/plain": [
       "<IPython.core.display.Image object>"
      ]
     },
     "execution_count": 2,
     "metadata": {},
     "output_type": "execute_result"
    }
   ],
   "source": [
    "from IPython.display import Image\n",
    "Image(url =\"company.png\", height=500, width=500)"
   ]
  },
  {
   "cell_type": "code",
   "execution_count": null,
   "id": "1af697da",
   "metadata": {},
   "outputs": [],
   "source": []
  },
  {
   "cell_type": "markdown",
   "id": "95e0fad4",
   "metadata": {},
   "source": [
    "Q5. What function is used in Flask for URL Building? Write a Python code to demonstrate the working of the\n",
    "url_for() function."
   ]
  },
  {
   "cell_type": "markdown",
   "id": "6d0c5fb9",
   "metadata": {},
   "source": [
    "==>>Flask url_for() method\n",
    "The url_for() method, is used to prepare a URL, for a function dynamically, such that, changing URLs, in the application, is avoided. It accepts, the name of the view function, as the first argument, and, any number of keywords, to be sent(to the view function), as the second argument. "
   ]
  },
  {
   "cell_type": "code",
   "execution_count": null,
   "id": "c0013469",
   "metadata": {},
   "outputs": [],
   "source": [
    " \n",
    "from flask import Flask,render_template , request,jsonify\n",
    "\n",
    "app = Flask(__name__) \n",
    "\n",
    "@app.route('/', methods=['GET', 'POST'])  \n",
    "def welcome_you():\n",
    "  return render_template('sportsmain.html')\n",
    "  \n",
    "  \n",
    "\n",
    "         \n",
    "if  __name__ == '__main__':\n",
    "    app.run(host=\"0.0.0.0\")"
   ]
  }
 ],
 "metadata": {
  "kernelspec": {
   "display_name": "Python 3 (ipykernel)",
   "language": "python",
   "name": "python3"
  },
  "language_info": {
   "codemirror_mode": {
    "name": "ipython",
    "version": 3
   },
   "file_extension": ".py",
   "mimetype": "text/x-python",
   "name": "python",
   "nbconvert_exporter": "python",
   "pygments_lexer": "ipython3",
   "version": "3.10.9"
  }
 },
 "nbformat": 4,
 "nbformat_minor": 5
}
